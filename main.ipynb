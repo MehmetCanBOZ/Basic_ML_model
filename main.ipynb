{
 "cells": [
  {
   "cell_type": "markdown",
   "metadata": {},
   "source": [
    "# The Basics: Training One Layer MODEL\n",
    "\n"
   ]
  },
  {
   "cell_type": "code",
   "execution_count": 8,
   "metadata": {},
   "outputs": [],
   "source": [
    "import tensorflow as tf\n",
    "import numpy as np\n",
    "import logging\n",
    "import matplotlib.pyplot as plt"
   ]
  },
  {
   "cell_type": "code",
   "execution_count": 9,
   "metadata": {},
   "outputs": [],
   "source": [
    "logger = tf.get_logger()\n",
    "logger.setLevel(logging.ERROR)"
   ]
  },
  {
   "cell_type": "markdown",
   "metadata": {},
   "source": [
    "# Set up training data\n",
    "\n",
    "Supervised Machine Learning is all about figuring out an algorithm given a set of inputs and outputs.Create a model that can give the temperature in Fahrenheit when given the degrees in Celsius"
   ]
  },
  {
   "cell_type": "code",
   "execution_count": 10,
   "metadata": {},
   "outputs": [
    {
     "name": "stdout",
     "output_type": "stream",
     "text": [
      "-40.0 degrees Celcius =-40.0 degrees Fahreniet\n",
      "-10.0 degrees Celcius =14.0 degrees Fahreniet\n",
      "0.0 degrees Celcius =32.0 degrees Fahreniet\n",
      "8.0 degrees Celcius =46.0 degrees Fahreniet\n",
      "15.0 degrees Celcius =59.0 degrees Fahreniet\n",
      "22.0 degrees Celcius =72.0 degrees Fahreniet\n",
      "38.0 degrees Celcius =100.0 degrees Fahreniet\n"
     ]
    }
   ],
   "source": [
    "celsius=np.array([-40, -10,  0,  8, 15, 22,  38],dtype=float)\n",
    "fahrenheit= np.array([-40,  14, 32, 46, 59, 72, 100],dtype=float)\n",
    "\n",
    "for i,c in enumerate(celsius):\n",
    "    print(\"{} degrees Celcius ={} degrees Fahreniet\".format(c,fahrenheit[i]))"
   ]
  },
  {
   "cell_type": "markdown",
   "metadata": {},
   "source": [
    "# Create the model\n",
    "We'll call the layer **l0** and create it by instantiating tf.keras.layers.Dense with the following configuration:\n",
    "* input_shape=[1] — This specifies that the input to this layer is a single value.\n",
    "* units=1 — This specifies the number of neurons in the layer.\n",
    "* **The Sequential model** definition takes a list of layers as an argument, specifying the calculation order from the input to the output."
   ]
  },
  {
   "cell_type": "code",
   "execution_count": 11,
   "metadata": {},
   "outputs": [],
   "source": [
    "model = tf.keras.Sequential([\n",
    "  tf.keras.layers.Dense(units=1, input_shape=[1])\n",
    "])"
   ]
  },
  {
   "cell_type": "markdown",
   "metadata": {},
   "source": [
    "# Compile the model, with loss and optimizer functions\n",
    "\n",
    "* **Loss function —** A way of measuring how far off predictions are from the desired outcome. (The measured difference is called the \"loss\".)\n",
    "* **Optimizer function —** A way of adjusting internal values in order to reduce the loss."
   ]
  },
  {
   "cell_type": "code",
   "execution_count": 12,
   "metadata": {},
   "outputs": [],
   "source": [
    "model.compile(loss='mean_squared_error',\n",
    "              optimizer=tf.keras.optimizers.Adam(0.1))"
   ]
  },
  {
   "cell_type": "markdown",
   "metadata": {},
   "source": [
    "# Train the model\n",
    "\n",
    "* During training, the model takes in **Celsius** values, performs a calculation using the current internal variables (called **\"weights\"**) and outputs values which are meant to be the **Fahrenheit** equivalent. \n",
    "\n",
    "*  The **epochs** argument specifies how many times this cycle should be run\n",
    "*  The **verbose** argument controls how much output the method produces."
   ]
  },
  {
   "cell_type": "code",
   "execution_count": 13,
   "metadata": {},
   "outputs": [
    {
     "name": "stdout",
     "output_type": "stream",
     "text": [
      "Training finished\n"
     ]
    }
   ],
   "source": [
    "hist=model.fit(celsius,fahrenheit,epochs=1000,verbose=False)\n",
    "print(\"Training finished\")"
   ]
  },
  {
   "cell_type": "markdown",
   "metadata": {},
   "source": [
    "# Display training statistics\n"
   ]
  },
  {
   "cell_type": "code",
   "execution_count": 14,
   "metadata": {},
   "outputs": [
    {
     "data": {
      "text/plain": [
       "[<matplotlib.lines.Line2D at 0x276c8a987c0>]"
      ]
     },
     "execution_count": 14,
     "metadata": {},
     "output_type": "execute_result"
    },
    {
     "data": {
      "image/png": "[encoded data removed]",
      "text/plain": [
       "<Figure size 432x288 with 1 Axes>"
      ]
     },
     "metadata": {
      "needs_background": "light"
     },
     "output_type": "display_data"
    }
   ],
   "source": [
    "plt.xlabel('Epoch Number')\n",
    "plt.ylabel('Loss')\n",
    "plt.plot(hist.history['loss'])"
   ]
  },
  {
   "cell_type": "markdown",
   "metadata": {},
   "source": [
    "# Use the model to predict values\n",
    "* Input=100 degree Celsius\n",
    "* The correct answer is  100×1.8+32=212 "
   ]
  },
  {
   "cell_type": "code",
   "execution_count": 15,
   "metadata": {},
   "outputs": [
    {
     "name": "stdout",
     "output_type": "stream",
     "text": [
      "[[211.74179]]\n"
     ]
    }
   ],
   "source": [
    "print(model.predict([100.0]))"
   ]
  },
  {
   "cell_type": "code",
   "execution_count": 16,
   "metadata": {},
   "outputs": [
    {
     "name": "stdout",
     "output_type": "stream",
     "text": [
      "These are the layer variables: [array([[1.7982992]], dtype=float32), array([31.911867], dtype=float32)]\n"
     ]
    }
   ],
   "source": [
    "print(\"These are the layer variables: {}\".format(model.get_weights()))"
   ]
  },
  {
   "cell_type": "markdown",
   "metadata": {},
   "source": [
    "# what if we created more Dense layers with different units, which therefore also has more variables?"
   ]
  },
  {
   "cell_type": "code",
   "execution_count": 17,
   "metadata": {},
   "outputs": [
    {
     "name": "stdout",
     "output_type": "stream",
     "text": [
      "Finished training the model\n",
      "[[211.74747]]\n",
      "Model predicts that 100 degrees Celsius is: [[211.74747]] degrees Fahrenheit\n",
      "These are the l0 variables: [array([[ 1.2223386 ,  0.06927732, -0.00664209, -0.42382115]],\n",
      "      dtype=float32), array([ 3.6862793, -2.9542785,  2.867136 ,  2.1982114], dtype=float32)]\n",
      "These are the l1 variables: [array([[-1.4912193 ,  0.3269579 , -1.2433832 , -0.79188555],\n",
      "       [ 1.2267264 , -0.9454718 ,  0.11551861, -0.14934176],\n",
      "       [-0.8260997 ,  1.0444646 ,  0.00652634, -0.31740108],\n",
      "       [-0.9796537 ,  0.04611228, -0.7336665 , -0.47410786]],\n",
      "      dtype=float32), array([-3.8080077 ,  3.6644397 , -0.20001663,  0.43742537], dtype=float32)]\n",
      "These are the l2 variables: [array([[-1.1049742 ],\n",
      "       [ 0.8174389 ],\n",
      "       [-0.03751269],\n",
      "       [-0.05937129]], dtype=float32), array([3.3856158], dtype=float32)]\n"
     ]
    }
   ],
   "source": [
    "l0 = tf.keras.layers.Dense(units=4, input_shape=[1])\n",
    "l1 = tf.keras.layers.Dense(units=4)\n",
    "l2 = tf.keras.layers.Dense(units=1)\n",
    "model = tf.keras.Sequential([l0, l1, l2])\n",
    "model.compile(loss='mean_squared_error', optimizer=tf.keras.optimizers.Adam(0.1))\n",
    "model.fit(celsius, fahrenheit, epochs=500, verbose=False)\n",
    "print(\"Finished training the model\")\n",
    "print(model.predict([100.0]))\n",
    "print(\"Model predicts that 100 degrees Celsius is: {} degrees Fahrenheit\".format(model.predict([100.0])))\n",
    "print(\"These are the l0 variables: {}\".format(l0.get_weights()))\n",
    "print(\"These are the l1 variables: {}\".format(l1.get_weights()))\n",
    "print(\"These are the l2 variables: {}\".format(l2.get_weights()))"
   ]
  },
  {
   "cell_type": "code",
   "execution_count": null,
   "metadata": {},
   "outputs": [],
   "source": []
  }
 ],
 "metadata": {
  "kernelspec": {
   "display_name": "Python 3",
   "language": "python",
   "name": "python3"
  },
  "language_info": {
   "codemirror_mode": {
    "name": "ipython",
    "version": 3
   },
   "file_extension": ".py",
   "mimetype": "text/x-python",
   "name": "python",
   "nbconvert_exporter": "python",
   "pygments_lexer": "ipython3",
   "version": "3.8.5"
  }
 },
 "nbformat": 4,
 "nbformat_minor": 4
}
